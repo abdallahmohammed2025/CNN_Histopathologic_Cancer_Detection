{
 "cells": [
  {
   "cell_type": "markdown",
   "id": "b0b6f19d",
   "metadata": {},
   "source": [
    "# Histopathologic Cancer Detection using EfficientNetB0"
   ]
  },
  {
   "cell_type": "code",
   "execution_count": null,
   "id": "e28324ed",
   "metadata": {},
   "outputs": [],
   "source": [
    "import os\n",
    "import numpy as np\n",
    "import pandas as pd\n",
    "import matplotlib.pyplot as plt\n",
    "from glob import glob\n",
    "\n",
    "from sklearn.model_selection import train_test_split\n",
    "from sklearn.metrics import classification_report, roc_auc_score\n",
    "\n",
    "import tensorflow as tf\n",
    "from tensorflow.keras.preprocessing.image import ImageDataGenerator\n",
    "from tensorflow.keras.applications import EfficientNetB0\n",
    "from tensorflow.keras.models import Model\n",
    "from tensorflow.keras.layers import GlobalAveragePooling2D, Dropout, Dense\n",
    "from tensorflow.keras.callbacks import EarlyStopping, ReduceLROnPlateau\n"
   ]
  },
  {
   "cell_type": "markdown",
   "id": "fb208c34",
   "metadata": {},
   "source": [
    "## Configuration"
   ]
  },
  {
   "cell_type": "code",
   "execution_count": null,
   "id": "3cc202d1",
   "metadata": {},
   "outputs": [],
   "source": [
    "IMG_SIZE = 96\n",
    "BATCH_SIZE = 32\n",
    "DATA_DIR = '/kaggle/input/histopathologic-cancer-detection'\n"
   ]
  },
  {
   "cell_type": "markdown",
   "id": "fa6cbf0f",
   "metadata": {},
   "source": [
    "## Load and Prepare Data"
   ]
  },
  {
   "cell_type": "code",
   "execution_count": null,
   "id": "95341356",
   "metadata": {},
   "outputs": [],
   "source": [
    "df = pd.read_csv(os.path.join(DATA_DIR, 'train_labels.csv'))\n",
    "df['label'] = df['label'].astype(str)\n",
    "df['path'] = df['id'].apply(lambda x: os.path.join(DATA_DIR, 'train', f'{x}.tif'))\n",
    "\n",
    "df = df.sample(8000, random_state=42)\n",
    "train_df, val_df = train_test_split(df, test_size=0.2, stratify=df['label'], random_state=42)\n"
   ]
  },
  {
   "cell_type": "markdown",
   "id": "701fbdfb",
   "metadata": {},
   "source": [
    "## Data Augmentation and Generators"
   ]
  },
  {
   "cell_type": "code",
   "execution_count": null,
   "id": "eada511d",
   "metadata": {},
   "outputs": [],
   "source": [
    "train_gen = ImageDataGenerator(\n",
    "    rescale=1./255,\n",
    "    horizontal_flip=True,\n",
    "    rotation_range=15,\n",
    "    zoom_range=0.2\n",
    ")\n",
    "val_gen = ImageDataGenerator(rescale=1./255)\n",
    "\n",
    "train_generator = train_gen.flow_from_dataframe(\n",
    "    train_df, x_col='path', y_col='label',\n",
    "    target_size=(IMG_SIZE, IMG_SIZE), class_mode='binary',\n",
    "    batch_size=BATCH_SIZE, shuffle=True\n",
    ")\n",
    "val_generator = val_gen.flow_from_dataframe(\n",
    "    val_df, x_col='path', y_col='label',\n",
    "    target_size=(IMG_SIZE, IMG_SIZE), class_mode='binary',\n",
    "    batch_size=BATCH_SIZE, shuffle=False\n",
    ")\n"
   ]
  },
  {
   "cell_type": "markdown",
   "id": "daa10660",
   "metadata": {},
   "source": [
    "## Build the Model"
   ]
  },
  {
   "cell_type": "code",
   "execution_count": null,
   "id": "95076daf",
   "metadata": {},
   "outputs": [],
   "source": [
    "base = EfficientNetB0(weights=None, include_top=False, input_shape=(IMG_SIZE, IMG_SIZE, 3))\n",
    "x = GlobalAveragePooling2D()(base.output)\n",
    "x = Dropout(0.3)(x)\n",
    "output = Dense(1, activation='sigmoid')(x)\n",
    "model = Model(inputs=base.input, outputs=output)\n",
    "\n",
    "model.compile(optimizer='adam', loss='binary_crossentropy', metrics=['accuracy'])\n",
    "model.summary()\n"
   ]
  },
  {
   "cell_type": "markdown",
   "id": "33ef7a6b",
   "metadata": {},
   "source": [
    "## Train the Model"
   ]
  },
  {
   "cell_type": "code",
   "execution_count": null,
   "id": "7bef73d4",
   "metadata": {},
   "outputs": [],
   "source": [
    "callbacks = [\n",
    "    EarlyStopping(patience=3, restore_best_weights=True),\n",
    "    ReduceLROnPlateau(patience=2, factor=0.5)\n",
    "]\n",
    "\n",
    "history = model.fit(\n",
    "    train_generator,\n",
    "    validation_data=val_generator,\n",
    "    epochs=10,\n",
    "    callbacks=callbacks\n",
    ")\n"
   ]
  },
  {
   "cell_type": "markdown",
   "id": "53d58198",
   "metadata": {},
   "source": [
    "## Evaluate Model"
   ]
  },
  {
   "cell_type": "code",
   "execution_count": null,
   "id": "02a5e988",
   "metadata": {},
   "outputs": [],
   "source": [
    "val_generator.reset()\n",
    "y_true = val_generator.classes\n",
    "y_pred = model.predict(val_generator).ravel()\n",
    "y_pred_labels = (y_pred > 0.5).astype(int)\n",
    "\n",
    "print(classification_report(y_true, y_pred_labels))\n",
    "print(\"ROC AUC Score:\", roc_auc_score(y_true, y_pred))\n"
   ]
  },
  {
   "cell_type": "markdown",
   "id": "e4cf4e34",
   "metadata": {},
   "source": [
    "## Predict on Full Test Set and Create Submission"
   ]
  },
  {
   "cell_type": "code",
   "execution_count": null,
   "id": "d70569ed",
   "metadata": {},
   "outputs": [],
   "source": [
    "test_paths = sorted(glob(os.path.join(DATA_DIR, 'test', '*.tif')))\n",
    "test_ids = [os.path.basename(p).replace('.tif', '') for p in test_paths]\n",
    "\n",
    "test_df = pd.DataFrame({'id': test_ids, 'path': test_paths})\n",
    "\n",
    "test_gen = ImageDataGenerator(rescale=1./255).flow_from_dataframe(\n",
    "    test_df, x_col='path', y_col=None, class_mode=None,\n",
    "    target_size=(IMG_SIZE, IMG_SIZE), batch_size=BATCH_SIZE, shuffle=False\n",
    ")\n",
    "\n",
    "preds = model.predict(test_gen, verbose=1).ravel()\n",
    "submission = pd.DataFrame({'id': test_ids, 'label': preds})\n",
    "submission.to_csv(\"submission.csv\", index=False)\n",
    "submission.head()\n"
   ]
  }
 ],
 "metadata": {
  "language_info": {
   "name": "python"
  }
 },
 "nbformat": 4,
 "nbformat_minor": 5
}
