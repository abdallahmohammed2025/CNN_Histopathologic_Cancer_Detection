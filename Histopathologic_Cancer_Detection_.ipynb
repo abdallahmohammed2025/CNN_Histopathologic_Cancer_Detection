{
 "cells": [
  {
   "cell_type": "markdown",
   "id": "69be73fd",
   "metadata": {},
   "source": [
    "# Histopathologic Cancer Detection\n",
    "\n",
    "## 1. Problem Description\n",
    "\n",
    "In this project, we work on the Kaggle challenge titled *Histopathologic Cancer Detection*. The goal is to identify the presence of metastatic tissue in small histopathologic image patches derived from larger digital pathology scans.\n",
    "\n",
    "This is a **binary image classification** problem:\n",
    "- `1`: Tumor present (metastatic cancer tissue in center region)\n",
    "- `0`: No tumor tissue in the center\n",
    "\n",
    "The challenge has real-world implications: pathologists often scan large digital slides for regions of cancerous tissue, and automating this process can accelerate diagnosis and reduce human error.\n",
    "\n",
    "### Dataset Description\n",
    "\n",
    "The dataset is derived from the **PatchCamelyon (PCam)** benchmark dataset, a popular and approachable dataset designed for evaluating metastasis detection models. This Kaggle version:\n",
    "- **Removes duplicates** that existed due to probabilistic sampling in the original PCam.\n",
    "- Maintains the same data split and label definition as PCam.\n",
    "\n",
    "From the authors of PCam:\n",
    "> \"[PCam] packs the clinically-relevant task of metastasis detection into a straight-forward binary image classification task, akin to CIFAR-10 and MNIST. Models can easily be trained on a single GPU in a couple hours, and achieve competitive scores in the Camelyon16 tasks of tumor detection and whole-slide image diagnosis. Furthermore, the balance between task-difficulty and tractability makes it a prime suspect for fundamental machine learning research on topics as active learning, model uncertainty, and explainability.\"\n",
    "\n",
    "### Technical Details\n",
    "\n",
    "- **Image Size**: 96×96 RGB\n",
    "- **Training Images**: 220,025\n",
    "- **Label**: Binary (0 or 1)\n",
    "- **Focus**: Label depends only on the **center 32×32 region** — this region must contain at least **one pixel of tumor** for the image to be labeled as `1`. The surrounding border is included to support models that avoid zero-padding.\n",
    "\n",
    "### Evaluation Metric\n",
    "\n",
    "Submissions are evaluated using the **Area Under the ROC Curve (AUC ROC)** between predicted probabilities and true binary labels.\n",
    "\n",
    "### Submission Format\n",
    "\n",
    "For each `id` in the test set, your model should predict a **probability** that the center 32×32 region contains tumor tissue. The CSV submission should follow this format:\n",
    "\n",
    "```\n",
    "id,label\n",
    "0b2ea2a822ad23fdb1b5dd26653da899fbd2c0d5,0.03\n",
    "95596b92e5066c5c52466c90b69ff089b39f2737,0.81\n",
    "248e6738860e2ebcf6258cdc1f32f299e0c76914,0.47\n",
    "```\n"
   ]
  },
  {
   "cell_type": "markdown",
   "id": "27213dbe",
   "metadata": {},
   "source": [
    "## 2. Exploratory Data Analysis (EDA)\n",
    "Here, we inspect label distributions and sample images to understand the dataset."
   ]
  },
  {
   "cell_type": "code",
   "execution_count": null,
   "id": "c691190d",
   "metadata": {},
   "outputs": [],
   "source": [
    "# Load libraries\n",
    "import os\n",
    "import numpy as np\n",
    "import pandas as pd\n",
    "import matplotlib.pyplot as plt\n",
    "import seaborn as sns\n",
    "from PIL import Image\n",
    "from sklearn.model_selection import train_test_split\n",
    "\n",
    "# Load labels\n",
    "labels_df = pd.read_csv('../input/histopathologic-cancer-detection/train_labels.csv')\n",
    "print(labels_df.shape)\n",
    "labels_df.head()"
   ]
  },
  {
   "cell_type": "code",
   "execution_count": null,
   "id": "a0008f12",
   "metadata": {},
   "outputs": [],
   "source": [
    "# Plot label distribution\n",
    "sns.countplot(x='label', data=labels_df)\n",
    "plt.title('Label Distribution')\n",
    "plt.show()"
   ]
  },
  {
   "cell_type": "code",
   "execution_count": null,
   "id": "280e6beb",
   "metadata": {},
   "outputs": [],
   "source": [
    "# Show some images\n",
    "def show_images(df, label, n=5):\n",
    "    subset = df[df['label'] == label].sample(n)\n",
    "    fig, axs = plt.subplots(1, n, figsize=(15,5))\n",
    "    for i, img_id in enumerate(subset['id']):\n",
    "        img = Image.open(f\"../input/histopathologic-cancer-detection/train/{img_id}.tif\")\n",
    "        axs[i].imshow(img)\n",
    "        axs[i].axis('off')\n",
    "    plt.suptitle(f'Sample images - label {label}')\n",
    "    plt.show()\n",
    "\n",
    "show_images(labels_df, 0)\n",
    "show_images(labels_df, 1)"
   ]
  },
  {
   "cell_type": "markdown",
   "id": "52a5a245",
   "metadata": {},
   "source": [
    "## 3. Model Architecture\n",
    "We define CNN architectures and explore transfer learning options."
   ]
  },
  {
   "cell_type": "code",
   "execution_count": null,
   "id": "88483462",
   "metadata": {},
   "outputs": [],
   "source": [
    "# Example PyTorch CNN (can switch to Keras as needed)\n",
    "import torch\n",
    "import torch.nn as nn\n",
    "import torch.nn.functional as F\n",
    "\n",
    "class SimpleCNN(nn.Module):\n",
    "    def __init__(self):\n",
    "        super(SimpleCNN, self).__init__()\n",
    "        self.conv1 = nn.Conv2d(3, 32, 3)\n",
    "        self.pool = nn.MaxPool2d(2, 2)\n",
    "        self.conv2 = nn.Conv2d(32, 64, 3)\n",
    "        self.fc1 = nn.Linear(64*22*22, 128)\n",
    "        self.fc2 = nn.Linear(128, 1)\n",
    "\n",
    "    def forward(self, x):\n",
    "        x = self.pool(F.relu(self.conv1(x)))\n",
    "        x = self.pool(F.relu(self.conv2(x)))\n",
    "        x = x.view(-1, 64*22*22)\n",
    "        x = F.relu(self.fc1(x))\n",
    "        x = torch.sigmoid(self.fc2(x))\n",
    "        return x"
   ]
  },
  {
   "cell_type": "markdown",
   "id": "d65f9530",
   "metadata": {},
   "source": [
    "## 4. Results and Analysis\n",
    "Here we train models, evaluate them using metrics, and perform hyperparameter tuning."
   ]
  },
  {
   "cell_type": "code",
   "execution_count": null,
   "id": "4bb8b2ad",
   "metadata": {},
   "outputs": [],
   "source": [
    "# Training loop placeholder (PyTorch/Keras depending on your stack)\n",
    "# Save best model and evaluate using metrics like AUC, accuracy, F1\n",
    "# Example metric plotting code\n",
    "\n",
    "def plot_metrics(history):\n",
    "    plt.plot(history['train_loss'], label='train_loss')\n",
    "    plt.plot(history['val_loss'], label='val_loss')\n",
    "    plt.title('Loss over Epochs')\n",
    "    plt.legend()\n",
    "    plt.show()"
   ]
  },
  {
   "cell_type": "markdown",
   "id": "fcdc6bb4",
   "metadata": {},
   "source": [
    "## 5. Conclusion\n",
    "Summarize what worked best, what didn’t, and what you would try in future iterations."
   ]
  },
  {
   "cell_type": "markdown",
   "id": "257f7f0c",
   "metadata": {},
   "source": [
    "## 6. GitHub and Kaggle Leaderboard\n",
    "- [GitHub Repository](https://github.com/abdallahmohammed2025/CNN_Histopathologic_Cancer_Detection#)\n",
    "- Kaggle Leaderboard Screenshot (attach or embed below):\n",
    "\n",
    "![Kaggle Screenshot](kaggle_leaderboard.png)"
   ]
  }
 ],
 "metadata": {
  "language_info": {
   "name": "python"
  }
 },
 "nbformat": 4,
 "nbformat_minor": 5
}
